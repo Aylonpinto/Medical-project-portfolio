{
 "cells": [
  {
   "cell_type": "markdown",
   "metadata": {},
   "source": [
    "# U.S. Medical Insurance Costs"
   ]
  },
  {
   "cell_type": "markdown",
   "metadata": {},
   "source": [
    "Importing modules."
   ]
  },
  {
   "cell_type": "code",
   "execution_count": 65,
   "metadata": {},
   "outputs": [],
   "source": [
    "import csv\n",
    "import statistics as st\n",
    "import matplotlib as plt"
   ]
  },
  {
   "cell_type": "markdown",
   "metadata": {},
   "source": [
    "Define a class for the files, the attributes will be the categories of information."
   ]
  },
  {
   "cell_type": "code",
   "execution_count": 51,
   "metadata": {},
   "outputs": [],
   "source": [
    "class File:\n",
    "    def __init__(self, age, sex, bmi, children, smoker, region, charges, index):\n",
    "        self.age = age\n",
    "        self.sex = sex\n",
    "        self.bmi = bmi\n",
    "        self.children = children\n",
    "        self.smoker = smoker\n",
    "        self.region = region\n",
    "        self.charges = charges\n",
    "        self.index = index\n",
    "    def __repr__(self):\n",
    "        return \"File number \" + str(self.index)"
   ]
  },
  {
   "cell_type": "markdown",
   "metadata": {},
   "source": [
    "Open the data and create a dictionary. The key's are the numbers of the files. The values are the File objects."
   ]
  },
  {
   "cell_type": "code",
   "execution_count": 71,
   "metadata": {},
   "outputs": [],
   "source": [
    "with open('insurance.csv') as insurance:\n",
    "    row_one = insurance.readline().split(\",\")\n",
    "    row_one[-1] = row_one[-1][:-1]\n",
    "with open('insurance.csv') as insurance:\n",
    "    dict = csv.DictReader(insurance)\n",
    "    data = {}\n",
    "    index = 0\n",
    "    for row in dict:\n",
    "        data[index] = File(int(row[row_one[0]]), row[row_one[1]], float(row[row_one[2]]), int(row[row_one[3]]), row[row_one[4]], row[row_one[5]], float(row[row_one[6]]), index)\n",
    "        index += 1"
   ]
  },
  {
   "cell_type": "markdown",
   "metadata": {},
   "source": [
    "### The number of files:"
   ]
  },
  {
   "cell_type": "code",
   "execution_count": 57,
   "metadata": {},
   "outputs": [
    {
     "data": {
      "text/plain": [
       "1338"
      ]
     },
     "execution_count": 57,
     "metadata": {},
     "output_type": "execute_result"
    }
   ],
   "source": [
    "len(data)"
   ]
  },
  {
   "cell_type": "markdown",
   "metadata": {},
   "source": [
    "### The average age:"
   ]
  },
  {
   "cell_type": "code",
   "execution_count": 58,
   "metadata": {},
   "outputs": [],
   "source": [
    "def average(lst):\n",
    "    total_num = 0\n",
    "    for num in lst:\n",
    "        total_num += num\n",
    "    return total_num / len(lst)\n",
    "def average_age(data):\n",
    "    ages = []\n",
    "    for i in data:\n",
    "        ages.append(data[i].age)\n",
    "    return average(ages)"
   ]
  },
  {
   "cell_type": "code",
   "execution_count": 59,
   "metadata": {},
   "outputs": [
    {
     "data": {
      "text/plain": [
       "39.20702541106129"
      ]
     },
     "execution_count": 59,
     "metadata": {},
     "output_type": "execute_result"
    }
   ],
   "source": [
    "average_age(data)"
   ]
  },
  {
   "cell_type": "markdown",
   "metadata": {},
   "source": [
    "### The fraction of smokers per region:"
   ]
  },
  {
   "cell_type": "code",
   "execution_count": 60,
   "metadata": {},
   "outputs": [],
   "source": [
    "def count_regions(regions):\n",
    "    unique_regions = []\n",
    "    for region in regions:\n",
    "        if unique_regions.count(region) == 0:\n",
    "            unique_regions.append(region)\n",
    "    per_region = {}\n",
    "    for key in unique_regions:\n",
    "        per_region[key] = regions.count(key)\n",
    "    return per_region\n",
    "def smoker_per_region(data):\n",
    "    smoker_regions = []\n",
    "    regions = []\n",
    "    for i in data:\n",
    "        if data[i].smoker == 'yes':\n",
    "            smoker_regions.append(data[i].region)\n",
    "        regions.append(data[i].region)\n",
    "    smoker_per_region = count_regions(smoker_regions)\n",
    "    total_per_region = count_regions(regions)\n",
    "    zip(smoker_per_region, total_per_region)\n",
    "    fraction_smoker_per_region = {key: smoker / total for key, smoker, total in zip(smoker_per_region, smoker_per_region.values(), total_per_region.values()) }\n",
    "    return fraction_smoker_per_region\n",
    "\n",
    "\n",
    "    "
   ]
  },
  {
   "cell_type": "markdown",
   "metadata": {},
   "source": [
    "Calculate the fraction of smokers per region."
   ]
  },
  {
   "cell_type": "code",
   "execution_count": 61,
   "metadata": {},
   "outputs": [
    {
     "name": "stdout",
     "output_type": "stream",
     "text": [
      "{'southwest': 0.17846153846153845, 'southeast': 0.25, 'northeast': 0.20615384615384616, 'northwest': 0.17901234567901234}\n"
     ]
    }
   ],
   "source": [
    "smoker_per_region(data)"
   ]
  },
  {
   "cell_type": "markdown",
   "metadata": {},
   "source": [
    "### Average age for persons with a child:"
   ]
  },
  {
   "cell_type": "code",
   "execution_count": 72,
   "metadata": {},
   "outputs": [
    {
     "data": {
      "text/plain": [
       "39.78010471204188"
      ]
     },
     "execution_count": 72,
     "metadata": {},
     "output_type": "execute_result"
    }
   ],
   "source": [
    "ages_with_child = []\n",
    "for i in data:\n",
    "    if data[i].children >= 1:\n",
    "        ages_with_child.append(data[i].age)\n",
    "average(ages_with_child)\n",
    "        \n",
    "        "
   ]
  }
 ],
 "metadata": {
  "kernelspec": {
   "display_name": "Python 3",
   "language": "python",
   "name": "python3"
  },
  "language_info": {
   "codemirror_mode": {
    "name": "ipython",
    "version": 3
   },
   "file_extension": ".py",
   "mimetype": "text/x-python",
   "name": "python",
   "nbconvert_exporter": "python",
   "pygments_lexer": "ipython3",
   "version": "3.8.5"
  }
 },
 "nbformat": 4,
 "nbformat_minor": 4
}
